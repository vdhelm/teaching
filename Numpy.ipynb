{
 "cells": [
  {
   "cell_type": "code",
   "execution_count": 2,
   "metadata": {
    "collapsed": true
   },
   "outputs": [],
   "source": [
    "import numpy"
   ]
  },
  {
   "cell_type": "code",
   "execution_count": 14,
   "metadata": {
    "collapsed": false
   },
   "outputs": [
    {
     "name": "stdout",
     "output_type": "stream",
     "text": [
      "c style\n",
      "CPU times: user 873 ms, sys: 16.7 ms, total: 890 ms\n",
      "Wall time: 891 ms\n",
      "\n",
      "numpy style\n",
      "CPU times: user 600 ms, sys: 117 ms, total: 717 ms\n",
      "Wall time: 716 ms\n",
      "\n",
      "true numpy style\n",
      "CPU times: user 3.33 ms, sys: 0 ns, total: 3.33 ms\n",
      "Wall time: 4.27 ms\n"
     ]
    },
    {
     "data": {
      "text/plain": [
       "array([      0,       2,       4, ..., 1999994, 1999996, 1999998])"
      ]
     },
     "execution_count": 14,
     "metadata": {},
     "output_type": "execute_result"
    }
   ],
   "source": [
    "def add_all(a, b):\n",
    "    c = [0] * len(a)\n",
    "    for i in range(len(a)):\n",
    "        c[i] = a[i] + b[i]\n",
    "    return c\n",
    "\n",
    "def add_all_numpy(a, b):\n",
    "    a_n = numpy.array(a)\n",
    "    b_n = numpy.array(b)\n",
    "    return a_n + b_n\n",
    "\n",
    "def add_all_numpy_input(a, b):\n",
    "    return a + b\n",
    "\n",
    "a = range(1000000)\n",
    "b = range(1000000)\n",
    "\n",
    "print(\"c style\")\n",
    "%time add_all(a, b)\n",
    "\n",
    "print()\n",
    "print(\"numpy style\")\n",
    "%time add_all_numpy(a, b)\n",
    "\n",
    "a = numpy.arange(1000000)\n",
    "b = numpy.arange(1000000)\n",
    "\n",
    "print()\n",
    "print(\"true numpy style\")\n",
    "%time add_all_numpy_input(a, b)\n"
   ]
  },
  {
   "cell_type": "markdown",
   "metadata": {},
   "source": [
    "slicing (with copy vs view)\n",
    "where\n",
    "list comprehensions\n"
   ]
  }
 ],
 "metadata": {
  "kernelspec": {
   "display_name": "Python 3",
   "language": "python",
   "name": "python3"
  },
  "language_info": {
   "codemirror_mode": {
    "name": "ipython",
    "version": 3
   },
   "file_extension": ".py",
   "mimetype": "text/x-python",
   "name": "python",
   "nbconvert_exporter": "python",
   "pygments_lexer": "ipython3",
   "version": "3.4.3"
  }
 },
 "nbformat": 4,
 "nbformat_minor": 0
}
