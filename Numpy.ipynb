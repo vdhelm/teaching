{
 "cells": [
  {
   "cell_type": "markdown",
   "metadata": {},
   "source": [
    "# Numpy"
   ]
  },
  {
   "cell_type": "markdown",
   "metadata": {},
   "source": [
    "Simple arithmatic on large sets of numbers is faster with numpy"
   ]
  },
  {
   "cell_type": "code",
   "execution_count": null,
   "metadata": {
    "collapsed": true
   },
   "outputs": [],
   "source": [
    "import numpy"
   ]
  },
  {
   "cell_type": "code",
   "execution_count": null,
   "metadata": {
    "collapsed": false
   },
   "outputs": [],
   "source": [
    "def add_all(a, b):\n",
    "    c = [0] * len(a)\n",
    "    for i in range(len(a)):\n",
    "        c[i] = a[i] + b[i]\n",
    "\n",
    "N = 1000000\n",
    "a = range(N)\n",
    "b = range(N)\n",
    "\n",
    "print(\"c style\")\n",
    "%time add_all(a, b)"
   ]
  },
  {
   "cell_type": "code",
   "execution_count": null,
   "metadata": {
    "collapsed": false
   },
   "outputs": [],
   "source": [
    "def add_all_numpy(a, b):\n",
    "    a_n = numpy.array(a)\n",
    "    b_n = numpy.array(b)\n",
    "    c = a_n + b_n\n",
    "\n",
    "print(\"numpy style\")\n",
    "%time add_all_numpy(a, b)"
   ]
  },
  {
   "cell_type": "code",
   "execution_count": null,
   "metadata": {
    "collapsed": false
   },
   "outputs": [],
   "source": [
    "def add_all_numpy_input(a, b):\n",
    "    c = a + b\n",
    "\n",
    "a = numpy.arange(N)\n",
    "b = numpy.arange(N)\n",
    "\n",
    "print()\n",
    "print(\"true numpy style\")\n",
    "%time add_all_numpy_input(a, b)"
   ]
  },
  {
   "cell_type": "markdown",
   "metadata": {},
   "source": [
    "This is also true for more complex operations"
   ]
  },
  {
   "cell_type": "code",
   "execution_count": null,
   "metadata": {
    "collapsed": false
   },
   "outputs": [],
   "source": [
    "vectors = numpy.random.random(3*N).reshape(N, 3)\n",
    "print(vectors[:10])"
   ]
  },
  {
   "cell_type": "code",
   "execution_count": null,
   "metadata": {
    "collapsed": false
   },
   "outputs": [],
   "source": [
    "import math\n",
    "def lengths(vectors):\n",
    "    c = [0] * len(vectors)\n",
    "    for i in range(len(a)):\n",
    "        x, y, z = vectors[i]\n",
    "        c[i] = math.sqrt(x**2 + y**2 + z**2)\n",
    "    return c\n",
    "        \n",
    "%time l = lengths(vectors)\n",
    "print(l[:10])"
   ]
  },
  {
   "cell_type": "code",
   "execution_count": null,
   "metadata": {
    "collapsed": false
   },
   "outputs": [],
   "source": [
    "def lengths_numpy(vectors):\n",
    "    squares = vectors**2\n",
    "    sums = numpy.sum(squares, axis=1)\n",
    "    return numpy.sqrt(sums)\n",
    "    \n",
    "%time l = lengths_numpy(vectors)\n",
    "print(l[:10])"
   ]
  },
  {
   "cell_type": "markdown",
   "metadata": {},
   "source": [
    "## Exercize 1:\n",
    "Rewrite the following code with numpy and without any loop."
   ]
  },
  {
   "cell_type": "code",
   "execution_count": null,
   "metadata": {
    "collapsed": false
   },
   "outputs": [],
   "source": [
    "def area(start, end):\n",
    "    total = 0\n",
    "    for x in range(start, end):\n",
    "        result = x**2 + 3*x - 14\n",
    "        result = abs(result)\n",
    "        total = total + result\n",
    "    return total\n",
    "\n",
    "%time print(area(-10, 10))"
   ]
  },
  {
   "cell_type": "markdown",
   "metadata": {},
   "source": [
    "### Select\n",
    "Numpy is also great for selecting numbers that match some criteria"
   ]
  },
  {
   "cell_type": "code",
   "execution_count": null,
   "metadata": {
    "collapsed": true
   },
   "outputs": [],
   "source": [
    "numbers = numpy.random.random(N)"
   ]
  },
  {
   "cell_type": "code",
   "execution_count": null,
   "metadata": {
    "collapsed": false
   },
   "outputs": [],
   "source": [
    "def my_select(numbers):\n",
    "    s = []\n",
    "    for n in numbers:\n",
    "        if n > 0.5:\n",
    "            s.append(n)\n",
    "    return s\n",
    "\n",
    "%time s = my_select(numbers)\n",
    "print(len(s))"
   ]
  },
  {
   "cell_type": "code",
   "execution_count": null,
   "metadata": {
    "collapsed": false
   },
   "outputs": [],
   "source": [
    "def my_select_numpy(numbers):\n",
    "    return numbers[numbers > 0.5]\n",
    "\n",
    "%time s = my_select_numpy(numbers)\n",
    "print(len(s))"
   ]
  },
  {
   "cell_type": "markdown",
   "metadata": {},
   "source": [
    "## Exercize 2:\n",
    "Pick a short operation that is non-trivial and can be applied to a large set of numbers. Preferably one that you might do in your own code.\n",
    "\n",
    "Write this twice, once in the python loop, and once with numpy array operations."
   ]
  },
  {
   "cell_type": "markdown",
   "metadata": {},
   "source": [
    "### TODO:\n",
    "- slicing (with copy vs view)\n",
    "- list comprehensions\n"
   ]
  }
 ],
 "metadata": {
  "kernelspec": {
   "display_name": "Python 3",
   "language": "python",
   "name": "python3"
  },
  "language_info": {
   "codemirror_mode": {
    "name": "ipython",
    "version": 3
   },
   "file_extension": ".py",
   "mimetype": "text/x-python",
   "name": "python",
   "nbconvert_exporter": "python",
   "pygments_lexer": "ipython3",
   "version": "3.4.3"
  }
 },
 "nbformat": 4,
 "nbformat_minor": 0
}
