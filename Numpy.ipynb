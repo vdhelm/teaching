{
 "cells": [
  {
   "cell_type": "markdown",
   "metadata": {},
   "source": [
    "# Numpy"
   ]
  },
  {
   "cell_type": "markdown",
   "metadata": {},
   "source": [
    "Simple arithmatic on large sets of numbers is faster with numpy"
   ]
  },
  {
   "cell_type": "code",
   "execution_count": null,
   "metadata": {
    "collapsed": false
   },
   "outputs": [],
   "source": [
    "import numpy\n",
    "%matplotlib inline\n",
    "from matplotlib import pyplot"
   ]
  },
  {
   "cell_type": "code",
   "execution_count": null,
   "metadata": {
    "collapsed": false
   },
   "outputs": [],
   "source": [
    "def add_all(a, b):\n",
    "    c = [0] * len(a)\n",
    "    for i in range(len(a)):\n",
    "        c[i] = a[i] + b[i]\n",
    "\n",
    "N = 1000000\n",
    "a = range(N)\n",
    "b = range(N)\n",
    "\n",
    "print(\"c style\")\n",
    "%time add_all(a, b)"
   ]
  },
  {
   "cell_type": "code",
   "execution_count": null,
   "metadata": {
    "collapsed": false
   },
   "outputs": [],
   "source": [
    "def add_all_numpy(a, b):\n",
    "    a_n = numpy.array(a)\n",
    "    b_n = numpy.array(b)\n",
    "    c = a_n + b_n\n",
    "\n",
    "print(\"numpy style\")\n",
    "%time add_all_numpy(a, b)"
   ]
  },
  {
   "cell_type": "code",
   "execution_count": null,
   "metadata": {
    "collapsed": false
   },
   "outputs": [],
   "source": [
    "def add_all_numpy_input(a, b):\n",
    "    c = a + b\n",
    "\n",
    "a = numpy.arange(N)\n",
    "b = numpy.arange(N)\n",
    "\n",
    "print()\n",
    "print(\"true numpy style\")\n",
    "%time add_all_numpy_input(a, b)"
   ]
  },
  {
   "cell_type": "markdown",
   "metadata": {},
   "source": [
    "### Exercize:\n",
    "rewrite the following function using numpy, without a loop."
   ]
  },
  {
   "cell_type": "code",
   "execution_count": null,
   "metadata": {
    "collapsed": false
   },
   "outputs": [],
   "source": [
    "def my_function(x):\n",
    "    y = [0] * len(x)\n",
    "    for i in range(len(x)):\n",
    "        y[i] = x[i]**2 + 3 * x[i] - 10\n",
    "    return y\n",
    "\n",
    "x = numpy.linspace(-10, 10, 100)\n",
    "y = my_function(x)\n",
    "\n",
    "pyplot.plot(x, y)"
   ]
  },
  {
   "cell_type": "markdown",
   "metadata": {},
   "source": [
    "Numpy can also be used to speed up more complex operations"
   ]
  },
  {
   "cell_type": "code",
   "execution_count": null,
   "metadata": {
    "collapsed": false
   },
   "outputs": [],
   "source": [
    "vectors = numpy.random.random(3*N).reshape(N, 3)\n",
    "print(vectors[:10])"
   ]
  },
  {
   "cell_type": "code",
   "execution_count": null,
   "metadata": {
    "collapsed": false
   },
   "outputs": [],
   "source": [
    "import math\n",
    "def lengths(vectors):\n",
    "    c = [0] * len(vectors)\n",
    "    for i in range(len(a)):\n",
    "        x, y, z = vectors[i]\n",
    "        c[i] = math.sqrt(x**2 + y**2 + z**2)\n",
    "    return c\n",
    "        \n",
    "%time l = lengths(vectors)\n",
    "print(l[:10])"
   ]
  },
  {
   "cell_type": "code",
   "execution_count": null,
   "metadata": {
    "collapsed": false
   },
   "outputs": [],
   "source": [
    "def lengths_numpy(vectors):\n",
    "    squares = vectors**2\n",
    "    sums = numpy.sum(squares, axis=1)\n",
    "    return numpy.sqrt(sums)\n",
    "    \n",
    "%time l = lengths_numpy(vectors)\n",
    "print(l[:10])"
   ]
  },
  {
   "cell_type": "markdown",
   "metadata": {},
   "source": [
    "### Exercize:\n",
    "Rewrite the following code with numpy and without any loop."
   ]
  },
  {
   "cell_type": "code",
   "execution_count": null,
   "metadata": {
    "collapsed": false
   },
   "outputs": [],
   "source": [
    "def area(start, end):\n",
    "    total = 0\n",
    "    for x in range(start, end):\n",
    "        result = x**2 + 3*x - 14\n",
    "        result = abs(result)\n",
    "        total = total + result\n",
    "    return total\n",
    "\n",
    "%time print(area(-10, 10))"
   ]
  },
  {
   "cell_type": "markdown",
   "metadata": {},
   "source": [
    "## Select\n",
    "Numpy is also great for selecting numbers that match some criteria"
   ]
  },
  {
   "cell_type": "code",
   "execution_count": null,
   "metadata": {
    "collapsed": true
   },
   "outputs": [],
   "source": [
    "numbers = numpy.random.random(N)"
   ]
  },
  {
   "cell_type": "code",
   "execution_count": null,
   "metadata": {
    "collapsed": false
   },
   "outputs": [],
   "source": [
    "def my_select(numbers):\n",
    "    s = []\n",
    "    for n in numbers:\n",
    "        if n > 0.5:\n",
    "            s.append(n)\n",
    "    return s\n",
    "\n",
    "%time s = my_select(numbers)\n",
    "print(len(s))"
   ]
  },
  {
   "cell_type": "code",
   "execution_count": null,
   "metadata": {
    "collapsed": false
   },
   "outputs": [],
   "source": [
    "def my_select_numpy(numbers):\n",
    "    return numbers[numbers > 0.5]\n",
    "\n",
    "%time s = my_select_numpy(numbers)\n",
    "print(len(s))"
   ]
  },
  {
   "cell_type": "markdown",
   "metadata": {},
   "source": [
    "### Exercize:\n",
    "Pick a short operation that is non-trivial and can be applied to a large set of numbers. Preferably one that you might do in your own code.\n",
    "\n",
    "Write this twice, once in the python loop, and once with numpy array operations.\n",
    "\n",
    "Have a look at http://docs.scipy.org/doc/numpy-1.10.0/reference/routines.math.html for some good options."
   ]
  },
  {
   "cell_type": "markdown",
   "metadata": {},
   "source": [
    "## copy and view\n",
    "Numpy arrays need space in memory, and many operations need to copy the data into another array. However, many do not, and this makes them very efficient."
   ]
  },
  {
   "cell_type": "code",
   "execution_count": null,
   "metadata": {
    "collapsed": false
   },
   "outputs": [],
   "source": [
    "N = 1000000\n",
    "a = numpy.arange(3 * N)\n",
    "%time a.copy()\n",
    "%time a.reshape((3, N))"
   ]
  },
  {
   "cell_type": "code",
   "execution_count": null,
   "metadata": {
    "collapsed": false
   },
   "outputs": [],
   "source": [
    "b = a.reshape((3, N))\n",
    "print(b.base is a)"
   ]
  },
  {
   "cell_type": "code",
   "execution_count": null,
   "metadata": {
    "collapsed": false
   },
   "outputs": [],
   "source": [
    "b = a[10:-10]\n",
    "print(b.base is a)"
   ]
  },
  {
   "cell_type": "code",
   "execution_count": null,
   "metadata": {
    "collapsed": false
   },
   "outputs": [],
   "source": [
    "b = a[::5]\n",
    "print(len(a), len(b))\n",
    "print(a[:10])\n",
    "print(b[:10])\n",
    "print(b.base is a)"
   ]
  },
  {
   "cell_type": "code",
   "execution_count": null,
   "metadata": {
    "collapsed": false
   },
   "outputs": [],
   "source": [
    "b[2] = -20\n",
    "print(a[:12])\n",
    "print(b[:10])"
   ]
  },
  {
   "cell_type": "markdown",
   "metadata": {},
   "source": [
    "### Exersize:\n",
    "Find out which of the following make a new array in memory?"
   ]
  },
  {
   "cell_type": "code",
   "execution_count": null,
   "metadata": {
    "collapsed": false
   },
   "outputs": [],
   "source": [
    "N = 1000000\n",
    "a = numpy.arange(3 * N)\n",
    "\n",
    "b = a[a<9]\n",
    "\n",
    "b = a**2\n",
    "\n",
    "b = a[::-1]\n",
    "\n",
    "b = a[::2]\n",
    "c = b.reshape((3, int(N/2)))\n",
    "\n",
    "b = a.reshape((3, N))\n",
    "c = b.flatten()\n",
    "print((c == a).all())"
   ]
  },
  {
   "cell_type": "markdown",
   "metadata": {},
   "source": [
    "## list comprehensions"
   ]
  },
  {
   "cell_type": "code",
   "execution_count": null,
   "metadata": {
    "collapsed": false
   },
   "outputs": [],
   "source": [
    "ints = range(100000)\n",
    "\n",
    "def c_style_loop(ints):\n",
    "    squares = [0]*len(ints)\n",
    "    for i in range(len(ints)):\n",
    "        squares[i] = ints[i]**2\n",
    "    return squares\n",
    "\n",
    "def for_loop(ints):\n",
    "    squares = []\n",
    "    for x in ints:\n",
    "        squares.append(x**2)\n",
    "    return squares\n",
    "\n",
    "def compr(ints):\n",
    "    return [x**2 for x in ints]\n",
    "\n",
    "print(\"C style\")\n",
    "%time sq = c_style_loop(ints)\n",
    "print(\"\\nfor loop\")\n",
    "%time sq = for_loop(ints)\n",
    "print(\"\\nlist comprehension\")\n",
    "%time sq = compr(ints)"
   ]
  },
  {
   "cell_type": "markdown",
   "metadata": {},
   "source": [
    "### Exercize:\n",
    "- rewrite this loop using a list comprehension.\n",
    "- Bonus question: make it work without a loop using numpy"
   ]
  },
  {
   "cell_type": "code",
   "execution_count": null,
   "metadata": {
    "collapsed": false
   },
   "outputs": [],
   "source": [
    "y = []\n",
    "for x in range(20):\n",
    "    b = x**3\n",
    "    if b%2 == 0:\n",
    "        c = -b\n",
    "    else:\n",
    "        c = -b + 1\n",
    "    y.append(c)\n",
    "\n",
    "print(y)"
   ]
  }
 ],
 "metadata": {
  "kernelspec": {
   "display_name": "Python 3",
   "language": "python",
   "name": "python3"
  },
  "language_info": {
   "codemirror_mode": {
    "name": "ipython",
    "version": 3
   },
   "file_extension": ".py",
   "mimetype": "text/x-python",
   "name": "python",
   "nbconvert_exporter": "python",
   "pygments_lexer": "ipython3",
   "version": "3.4.3"
  }
 },
 "nbformat": 4,
 "nbformat_minor": 0
}
