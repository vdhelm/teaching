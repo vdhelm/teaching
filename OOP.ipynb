{
 "cells": [
  {
   "cell_type": "markdown",
   "metadata": {},
   "source": [
    "# Object Oriented Programming in Python\n",
    "There are different ways of structuring a program, with python you can use many of them:"
   ]
  },
  {
   "cell_type": "markdown",
   "metadata": {},
   "source": [
    "The simplest way is **scripting**, where you just put commands one after another."
   ]
  },
  {
   "cell_type": "code",
   "execution_count": null,
   "metadata": {
    "collapsed": false
   },
   "outputs": [],
   "source": [
    "start = \"Hello\"\n",
    "end = \"world!\"\n",
    "print(start, end)"
   ]
  },
  {
   "cell_type": "markdown",
   "metadata": {},
   "source": [
    "When programs get larger, it's natural to put reusable code into functions, which leads us to\n",
    "**procedural programming**."
   ]
  },
  {
   "cell_type": "code",
   "execution_count": null,
   "metadata": {
    "collapsed": false
   },
   "outputs": [],
   "source": [
    "def hello_world():\n",
    "    start = \"Hello\"\n",
    "    end = \"world!\"\n",
    "    return start + \" \" + end\n",
    "\n",
    "print(hello_world())"
   ]
  },
  {
   "cell_type": "markdown",
   "metadata": {},
   "source": [
    "It often becomes useful to group a number of variables that are always used together, like the **struct** in C."
   ]
  },
  {
   "cell_type": "code",
   "execution_count": null,
   "metadata": {
    "collapsed": false
   },
   "outputs": [],
   "source": [
    "def move(position, velocity):\n",
    "    position['x'] += velocity['vx']\n",
    "    position['y'] += velocity['vy']\n",
    "    position['z'] += velocity['vz']\n",
    "    return position\n",
    "\n",
    "position = {'x': 0.1, 'y': 2.3, 'z': 0.4}\n",
    "velocity = {'vx': 1., 'vy': -1., 'vz': 0.}\n",
    "\n",
    "new_position = move(position, velocity)\n",
    "print(new_position)"
   ]
  },
  {
   "cell_type": "markdown",
   "metadata": {},
   "source": [
    "You will often have a set of functions that act on the same group of variables."
   ]
  },
  {
   "cell_type": "code",
   "execution_count": null,
   "metadata": {
    "collapsed": false
   },
   "outputs": [],
   "source": [
    "def move(position, velocity):\n",
    "    # code\n",
    "    pass\n",
    "\n",
    "def calculate_force(position, velocity):\n",
    "    # code\n",
    "    pass\n",
    "\n",
    "def evolve_to_time(position, velocity):\n",
    "    # code\n",
    "    pass"
   ]
  },
  {
   "cell_type": "markdown",
   "metadata": {},
   "source": [
    "This is far easier if we group variables and functions together so we get **object oriented programming**."
   ]
  },
  {
   "cell_type": "code",
   "execution_count": null,
   "metadata": {
    "collapsed": false
   },
   "outputs": [],
   "source": [
    "class PointParticle:\n",
    "    def __init__(self, x, y, z, vx, vy, vz):\n",
    "        # code\n",
    "        pass\n",
    "\n",
    "    def move(self):\n",
    "        # code\n",
    "        pass\n",
    "\n",
    "    def calculate_force(self):\n",
    "        # code\n",
    "        pass\n",
    "\n",
    "    def evolve_to_time(self):\n",
    "        # code\n",
    "        pass"
   ]
  },
  {
   "cell_type": "markdown",
   "metadata": {},
   "source": [
    "## Classes and Objects\n",
    "First and foremost, it is important to understand the difference between a **class** and an **object**.\n",
    "A class is a general template or description of what can be done. \n",
    "So let's say we define a new class **postdoc**, which is a template for something that has a name and can do research."
   ]
  },
  {
   "cell_type": "code",
   "execution_count": null,
   "metadata": {
    "collapsed": true
   },
   "outputs": [],
   "source": [
    "class PostDoc:\n",
    "    def __init__(self, name):\n",
    "        self.name = name\n",
    "        \n",
    "    def do_research(self):\n",
    "        print(self.name, \"is working hard...\")\n",
    "    \n",
    "    def __str__(self):\n",
    "        return \"postdoc \" + self.name"
   ]
  },
  {
   "cell_type": "markdown",
   "metadata": {},
   "source": [
    "In itself, this class doesn't do anything, we first need to make one or more **object**s using this class. We create an instance of the class."
   ]
  },
  {
   "cell_type": "code",
   "execution_count": null,
   "metadata": {
    "collapsed": false
   },
   "outputs": [],
   "source": [
    "lucie = PostDoc(\"Lucie\")\n",
    "magnus = PostDoc(\"Magnus\")\n",
    "lucie.do_research()\n",
    "print(magnus)"
   ]
  },
  {
   "cell_type": "code",
   "execution_count": null,
   "metadata": {
    "collapsed": false
   },
   "outputs": [],
   "source": [
    "len(magnus)"
   ]
  },
  {
   "cell_type": "markdown",
   "metadata": {},
   "source": [
    "## Inheritance\n",
    "Once you start writing more classes and using various objects, you may find that groups of classes often have things in common, like similar functions or variables. It is then usually a good idea to first define a superclass and let your other classes inherit from that class."
   ]
  },
  {
   "cell_type": "code",
   "execution_count": null,
   "metadata": {
    "collapsed": true
   },
   "outputs": [],
   "source": [
    "class Researcher:\n",
    "    def __init__(self, name):\n",
    "        self.name = name\n",
    "        \n",
    "    def do_research(self):\n",
    "        print(self.name, \"is working hard...\")\n",
    "\n",
    "class PostDoc(Researcher):\n",
    "    pass\n",
    "\n",
    "class PhD(Researcher):\n",
    "    \n",
    "    def add_supervisor(self, supervisor):\n",
    "        self.supervisor = supervisor\n",
    "        \n",
    "    def do_research(self):\n",
    "        print(self.name, \"askes\", self.supervisor.name, \"what to do.\")\n",
    "        super().do_research()\n",
    "\n",
    "class Professor(Researcher):\n",
    "    def __init__(self, *args, **kwargs):\n",
    "        super(Professor, self).__init__(*args, **kwargs)\n",
    "        self.phds = []\n",
    "    \n",
    "    def hire_phd(self, candidate):\n",
    "        candidate.add_supervisor(self)\n",
    "        self.phds.append(candidate)\n",
    "    \n",
    "    def do_research(self):\n",
    "        for phd in self.phds:\n",
    "            print(self.name, \"tells\", phd.name, \"to start working.\")\n",
    "            phd.do_research()"
   ]
  },
  {
   "cell_type": "code",
   "execution_count": null,
   "metadata": {
    "collapsed": false
   },
   "outputs": [],
   "source": [
    "lucie = PostDoc(\"Lucie\")\n",
    "magnus = PostDoc(\"Magnus\")\n",
    "\n",
    "lucie.do_research()\n",
    "magnus.do_research()"
   ]
  },
  {
   "cell_type": "code",
   "execution_count": null,
   "metadata": {
    "collapsed": false
   },
   "outputs": [],
   "source": [
    "edwin = PhD(\"Edwin\")\n",
    "simon = Professor(\"Simon\")\n",
    "simon.hire_phd(edwin)\n",
    "\n",
    "edwin.do_research()"
   ]
  },
  {
   "cell_type": "code",
   "execution_count": null,
   "metadata": {
    "collapsed": false
   },
   "outputs": [],
   "source": [
    "simon.do_research()"
   ]
  },
  {
   "cell_type": "markdown",
   "metadata": {
    "collapsed": true
   },
   "source": [
    "##Exercize 1: planetary system\n",
    "You want to create a program that represents a planetary system.\n",
    "- Create a number of classes to represent star(s), planets and moons.\n",
    "- Think about the class hierarchy, what is different and what do they have in common.\n",
    "- Create the links, planets orbit stars and moons orbit planets.\n",
    "- Planets and moons can move in their orbit.\n",
    "- Stars can emit light, while planets and moons can reflect light.\n",
    "- Any planet or moon with gas will get turbulent winds when light shines on it."
   ]
  },
  {
   "cell_type": "markdown",
   "metadata": {},
   "source": [
    "##Exercize 2: A real world example\n",
    "Have a look at [stellar_wind.py](https://github.com/vdhelm/teaching/blob/master/stellar_wind.py)\n",
    "- Write down the class hierarchy, what extends what, what contains what?\n",
    "\n",
    "The most important function in this code is 'create_wind_particles()'. \n",
    "- On which object(s) can you call that function?"
   ]
  },
  {
   "cell_type": "markdown",
   "metadata": {},
   "source": [
    "##Exercize 3: Your own code\n",
    "Take a (procedural) code that you work on yourself and think about how it could be rewritten using classes and objects.\n",
    "- Identify what could be grouped together in a class.\n",
    "- Would you have multiple objects for a single class?\n",
    "- Would you use inheritance?"
   ]
  }
 ],
 "metadata": {
  "kernelspec": {
   "display_name": "Python 3",
   "language": "python",
   "name": "python3"
  },
  "language_info": {
   "codemirror_mode": {
    "name": "ipython",
    "version": 3
   },
   "file_extension": ".py",
   "mimetype": "text/x-python",
   "name": "python",
   "nbconvert_exporter": "python",
   "pygments_lexer": "ipython3",
   "version": "3.4.3"
  }
 },
 "nbformat": 4,
 "nbformat_minor": 0
}
